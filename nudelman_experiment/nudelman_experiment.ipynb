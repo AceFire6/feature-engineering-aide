{
 "cells": [
  {
   "cell_type": "code",
   "execution_count": 16,
   "metadata": {
    "pycharm": {
     "is_executing": false,
     "metadata": false,
     "name": "#%%\n"
    }
   },
   "outputs": [],
   "source": [
    "import warnings\n",
    "from sklearn.utils import compute_sample_weight\n",
    "\n",
    "\n",
    "warnings.simplefilter('ignore')"
   ]
  },
  {
   "cell_type": "code",
   "execution_count": 17,
   "metadata": {
    "pycharm": {
     "is_executing": false,
     "metadata": false,
     "name": "#%%\n"
    }
   },
   "outputs": [],
   "source": [
    "import matplotlib.pyplot as plt\n",
    "import numpy as np\n",
    "\n",
    "from sklearn.metrics import confusion_matrix\n",
    "from sklearn.utils.multiclass import unique_labels\n",
    "\n",
    "def plot_confusion_matrix(y_true, y_pred, classes,\n",
    "                          normalize=False,\n",
    "                          title=None,\n",
    "                          cmap=plt.cm.Blues):\n",
    "    \"\"\"\n",
    "    This function prints and plots the confusion matrix.\n",
    "    Normalization can be applied by setting `normalize=True`.\n",
    "    \"\"\"\n",
    "    if not title:\n",
    "        if normalize:\n",
    "            title = 'Normalized confusion matrix'\n",
    "        else:\n",
    "            title = 'Confusion matrix, without normalization'\n",
    "\n",
    "    # Compute confusion matrix\n",
    "    cm = confusion_matrix(y_true, y_pred)\n",
    "    # Only use the labels that appear in the data\n",
    "    classes = classes[unique_labels(y_true, y_pred)]\n",
    "    if normalize:\n",
    "        cm = cm.astype('float') / cm.sum(axis=1)[:, np.newaxis]\n",
    "        print(\"Normalized confusion matrix\")\n",
    "    else:\n",
    "        print('Confusion matrix, without normalization')\n",
    "\n",
    "    print(cm)\n",
    "\n",
    "    fig, ax = plt.subplots()\n",
    "    im = ax.imshow(cm, interpolation='nearest', cmap=cmap)\n",
    "    ax.figure.colorbar(im, ax=ax)\n",
    "    # We want to show all ticks...\n",
    "    ax.set(xticks=np.arange(cm.shape[1]),\n",
    "           yticks=np.arange(cm.shape[0]),\n",
    "           # ... and label them with the respective list entries\n",
    "           xticklabels=classes, yticklabels=classes,\n",
    "           title=title,\n",
    "           ylabel='True label',\n",
    "           xlabel='Predicted label')\n",
    "\n",
    "    # Rotate the tick labels and set their alignment.\n",
    "    plt.setp(ax.get_xticklabels(), rotation=45, ha=\"right\",\n",
    "             rotation_mode=\"anchor\")\n",
    "\n",
    "    # Loop over data dimensions and create text annotations.\n",
    "    fmt = '.2f' if normalize else 'd'\n",
    "    thresh = cm.max() / 2.\n",
    "    for i in range(cm.shape[0]):\n",
    "        for j in range(cm.shape[1]):\n",
    "            ax.text(j, i, format(cm[i, j], fmt),\n",
    "                    ha=\"center\", va=\"center\",\n",
    "                    color=\"white\" if cm[i, j] > thresh else \"black\")\n",
    "    fig.tight_layout()\n",
    "    return ax\n"
   ]
  },
  {
   "cell_type": "code",
   "execution_count": 19,
   "metadata": {
    "pycharm": {
     "is_executing": false
    }
   },
   "outputs": [
    {
     "data": {
      "text/plain": [
       "FinAid                  bool\n",
       "Application Year    category\n",
       "EngBin              category\n",
       "AveSciBin           category\n",
       "ALQLBin             category\n",
       "Province            category\n",
       "Quintile            category\n",
       "CSCBin                  bool\n",
       "AdMathAttempt           bool\n",
       "dtype: object"
      ]
     },
     "execution_count": 19,
     "metadata": {},
     "output_type": "execute_result"
    }
   ],
   "source": [
    "from pathlib import Path\n",
    "\n",
    "import pandas as pd\n",
    "\n",
    "\n",
    "csc_prediction_data_file = Path('./data_files/CSCFull.csv')\n",
    "\n",
    "csc_prediction_true_values = ['Yes', 'Pass']\n",
    "csc_prediction_false_values = ['No', 'Fail']\n",
    "csc_prediction_data_types = {\n",
    "    'Application Year': 'category',\n",
    "    'Quintile': 'category',\n",
    "    'EngBin': 'category',\n",
    "    'AveSciBin': 'category',\n",
    "    'ALQLBin': 'category',\n",
    "    'Province': 'category',\n",
    "}\n",
    "csc_prediction_na_values = {\n",
    "    'CSCBin': '*',\n",
    "}\n",
    "\n",
    "csc_prediction_data_rows = [\n",
    "    'FinAid',\n",
    "    'Application Year',\n",
    "    'EngBin',\n",
    "    'AveSciBin',\n",
    "    'ALQLBin',\n",
    "    'Province',\n",
    "    'Quintile',\n",
    "    'AdMathAttempt',\n",
    "]\n",
    "\n",
    "csc_prediction_data = pd.read_csv(\n",
    "    filepath_or_buffer=csc_prediction_data_file,\n",
    "    dtype=csc_prediction_data_types,\n",
    "    true_values=csc_prediction_true_values,\n",
    "    false_values=csc_prediction_false_values,\n",
    "    na_values=csc_prediction_na_values,\n",
    "    keep_default_na=False,\n",
    ")\n",
    "csc_prediction_data = csc_prediction_data.astype({'CSCBin': 'bool'})\n",
    "csc_prediction_data.dtypes"
   ]
  },
  {
   "cell_type": "code",
   "execution_count": 20,
   "metadata": {
    "pycharm": {
     "is_executing": false,
     "metadata": false,
     "name": "#%%\n"
    }
   },
   "outputs": [],
   "source": [
    "from collections import defaultdict\n",
    "\n",
    "from autosklearn.classification import AutoSklearnClassifier\n",
    "from sklearn.model_selection import LeaveOneGroupOut\n",
    "from sklearn.metrics import accuracy_score, f1_score, matthews_corrcoef\n",
    "from sklearn.preprocessing import LabelEncoder\n",
    "\n",
    "\n",
    "label_encoded_cols = defaultdict(LabelEncoder)\n",
    "\n",
    "training_data = csc_prediction_data.apply(\n",
    "    lambda x: label_encoded_cols[x.name].fit_transform(x)\n",
    ")\n",
    "\n",
    "X = training_data[csc_prediction_data_rows]\n",
    "y = training_data['CSCBin']\n",
    "\n",
    "leave_one_out = LeaveOneGroupOut()"
   ]
  },
  {
   "cell_type": "markdown",
   "metadata": {
    "pycharm": {
     "metadata": false
    }
   },
   "source": [
    "# Auto-sklearn"
   ]
  },
  {
   "cell_type": "code",
   "execution_count": 21,
   "metadata": {},
   "outputs": [
    {
     "data": {
      "text/plain": [
       "CSCBin\n",
       "False     91\n",
       "True     692\n",
       "dtype: int64"
      ]
     },
     "execution_count": 21,
     "metadata": {},
     "output_type": "execute_result"
    }
   ],
   "source": [
    "csc_prediction_data.groupby('CSCBin').size()"
   ]
  },
  {
   "cell_type": "code",
   "execution_count": 22,
   "metadata": {
    "pycharm": {
     "is_executing": false,
     "metadata": false,
     "name": "#%%\n"
    }
   },
   "outputs": [
    {
     "name": "stdout",
     "output_type": "stream",
     "text": [
      "[WARNING] [2019-04-12 17:15:34,944:EnsembleBuilder(1791095845):c27be3da148d3e84f3c3cb6ed4c689b3] No models better than random - using Dummy Score!\n",
      "[WARNING] [2019-04-12 17:15:35,011:EnsembleBuilder(1791095845):c27be3da148d3e84f3c3cb6ed4c689b3] No models better than random - using Dummy Score!\n",
      "[WARNING] [2019-04-12 17:15:37,017:EnsembleBuilder(1791095845):c27be3da148d3e84f3c3cb6ed4c689b3] No models better than random - using Dummy Score!\n",
      "[WARNING] [2019-04-12 17:15:40,850:smac.intensification.intensification.Intensifier] Challenger was the same as the current incumbent; Skipping challenger\n",
      "[WARNING] [2019-04-12 17:15:40,850:smac.intensification.intensification.Intensifier] Challenger was the same as the current incumbent; Skipping challenger\n",
      "[WARNING] [2019-04-12 17:16:13,438:smac.intensification.intensification.Intensifier] Challenger was the same as the current incumbent; Skipping challenger\n",
      "[WARNING] [2019-04-12 17:16:13,438:smac.intensification.intensification.Intensifier] Challenger was the same as the current incumbent; Skipping challenger\n",
      "[WARNING] [2019-04-12 18:15:39,998:EnsembleBuilder(1791095845):9eff06c1e84d4b2f5812d017bae29467] No models better than random - using Dummy Score!\n",
      "[WARNING] [2019-04-12 18:15:40,063:EnsembleBuilder(1791095845):9eff06c1e84d4b2f5812d017bae29467] No models better than random - using Dummy Score!\n",
      "[WARNING] [2019-04-12 18:15:42,076:EnsembleBuilder(1791095845):9eff06c1e84d4b2f5812d017bae29467] No models better than random - using Dummy Score!\n",
      "[WARNING] [2019-04-12 18:15:45,784:smac.intensification.intensification.Intensifier] Challenger was the same as the current incumbent; Skipping challenger\n",
      "[WARNING] [2019-04-12 18:15:45,784:smac.intensification.intensification.Intensifier] Challenger was the same as the current incumbent; Skipping challenger\n",
      "[WARNING] [2019-04-12 19:15:46,721:EnsembleBuilder(1791095845):c11412203b362374e2ec51e6f0f6ce78] No models better than random - using Dummy Score!\n",
      "[WARNING] [2019-04-12 19:15:46,778:EnsembleBuilder(1791095845):c11412203b362374e2ec51e6f0f6ce78] No models better than random - using Dummy Score!\n",
      "[WARNING] [2019-04-12 19:15:48,798:EnsembleBuilder(1791095845):c11412203b362374e2ec51e6f0f6ce78] No models better than random - using Dummy Score!\n",
      "[WARNING] [2019-04-12 19:15:52,755:smac.intensification.intensification.Intensifier] Challenger was the same as the current incumbent; Skipping challenger\n",
      "[WARNING] [2019-04-12 19:15:52,755:smac.intensification.intensification.Intensifier] Challenger was the same as the current incumbent; Skipping challenger\n",
      "[WARNING] [2019-04-12 20:15:52,628:EnsembleBuilder(1791095845):ae472239bb98af39026c10df2f2b5c93] No models better than random - using Dummy Score!\n",
      "[WARNING] [2019-04-12 20:15:52,687:EnsembleBuilder(1791095845):ae472239bb98af39026c10df2f2b5c93] No models better than random - using Dummy Score!\n",
      "[WARNING] [2019-04-12 20:15:54,705:EnsembleBuilder(1791095845):ae472239bb98af39026c10df2f2b5c93] No models better than random - using Dummy Score!\n",
      "[WARNING] [2019-04-12 20:15:58,233:smac.intensification.intensification.Intensifier] Challenger was the same as the current incumbent; Skipping challenger\n",
      "[WARNING] [2019-04-12 20:15:58,233:smac.intensification.intensification.Intensifier] Challenger was the same as the current incumbent; Skipping challenger\n",
      "[WARNING] [2019-04-12 21:15:57,725:EnsembleBuilder(1791095845):2e2a7144f104dfea73dd7b02835ca451] No models better than random - using Dummy Score!\n",
      "[WARNING] [2019-04-12 21:15:57,739:EnsembleBuilder(1791095845):2e2a7144f104dfea73dd7b02835ca451] No models better than random - using Dummy Score!\n",
      "[WARNING] [2019-04-12 22:16:04,237:EnsembleBuilder(1791095845):89f5f1c444620282e9c3ba55b699fd67] No models better than random - using Dummy Score!\n",
      "[WARNING] [2019-04-12 22:16:04,276:EnsembleBuilder(1791095845):89f5f1c444620282e9c3ba55b699fd67] No models better than random - using Dummy Score!\n",
      "[WARNING] [2019-04-12 22:16:09,927:smac.intensification.intensification.Intensifier] Challenger was the same as the current incumbent; Skipping challenger\n",
      "[WARNING] [2019-04-12 22:16:09,927:smac.intensification.intensification.Intensifier] Challenger was the same as the current incumbent; Skipping challenger\n",
      "[WARNING] [2019-04-12 23:16:10,129:EnsembleBuilder(1791095845):508734116d6afbf296dd1c3978a2611c] No models better than random - using Dummy Score!\n",
      "[WARNING] [2019-04-12 23:16:10,231:EnsembleBuilder(1791095845):508734116d6afbf296dd1c3978a2611c] No models better than random - using Dummy Score!\n",
      "[WARNING] [2019-04-12 23:16:12,245:EnsembleBuilder(1791095845):508734116d6afbf296dd1c3978a2611c] No models better than random - using Dummy Score!\n",
      "[WARNING] [2019-04-12 23:16:15,776:smac.intensification.intensification.Intensifier] Challenger was the same as the current incumbent; Skipping challenger\n",
      "[WARNING] [2019-04-12 23:16:15,776:smac.intensification.intensification.Intensifier] Challenger was the same as the current incumbent; Skipping challenger\n",
      "[WARNING] [2019-04-13 00:16:16,370:EnsembleBuilder(1791095845):d7a2319f383c4f6d8b45db84ee8d6aa5] No models better than random - using Dummy Score!\n",
      "[WARNING] [2019-04-13 00:16:16,386:EnsembleBuilder(1791095845):d7a2319f383c4f6d8b45db84ee8d6aa5] No models better than random - using Dummy Score!\n",
      "[WARNING] [2019-04-13 00:16:18,391:EnsembleBuilder(1791095845):d7a2319f383c4f6d8b45db84ee8d6aa5] No models better than random - using Dummy Score!\n",
      "[WARNING] [2019-04-13 00:16:22,305:smac.intensification.intensification.Intensifier] Challenger was the same as the current incumbent; Skipping challenger\n",
      "[WARNING] [2019-04-13 00:16:22,305:smac.intensification.intensification.Intensifier] Challenger was the same as the current incumbent; Skipping challenger\n",
      "[WARNING] [2019-04-13 01:16:26,473:EnsembleBuilder(1791095845):7353af0c97dddcc824f0082f99478a0b] No models better than random - using Dummy Score!\n",
      "[WARNING] [2019-04-13 01:16:26,520:EnsembleBuilder(1791095845):7353af0c97dddcc824f0082f99478a0b] No models better than random - using Dummy Score!\n",
      "[WARNING] [2019-04-13 01:16:32,849:smac.intensification.intensification.Intensifier] Challenger was the same as the current incumbent; Skipping challenger\n",
      "[WARNING] [2019-04-13 01:16:32,849:smac.intensification.intensification.Intensifier] Challenger was the same as the current incumbent; Skipping challenger\n",
      "[WARNING] [2019-04-13 02:16:31,015:EnsembleBuilder(1791095845):6e77c686f0bc412c28bd4d71ec80628d] No models better than random - using Dummy Score!\n",
      "[WARNING] [2019-04-13 02:16:31,048:EnsembleBuilder(1791095845):6e77c686f0bc412c28bd4d71ec80628d] No models better than random - using Dummy Score!\n",
      "[WARNING] [2019-04-13 02:16:36,803:smac.intensification.intensification.Intensifier] Challenger was the same as the current incumbent; Skipping challenger\n",
      "[WARNING] [2019-04-13 02:16:36,803:smac.intensification.intensification.Intensifier] Challenger was the same as the current incumbent; Skipping challenger\n",
      "{'accuracy': [0.8536585365853658, 0.8076923076923077, 0.8695652173913043, 0.8928571428571429, 0.9333333333333333, 0.9247311827956989, 0.8021978021978022, 0.8297872340425532, 0.8604651162790697, 0.8968253968253969], 'f1': [0.9210526315789475, 0.8936170212765957, 0.9302325581395349, 0.9433962264150944, 0.9655172413793104, 0.9608938547486032, 0.8888888888888891, 0.9058823529411765, 0.9249999999999999, 0.9446808510638297], 'mcc': [0.0, -0.06406221326384731, 0.0, -0.04222003309207491, 0.0, 0.0, 0.06940930684335787, 0.018415951966208682, 0.0, 0.2362159324052733]}\n",
      "CPU times: user 4h 7min 3s, sys: 6min 44s, total: 4h 13min 48s\n",
      "Wall time: 10h 1min 3s\n"
     ]
    }
   ],
   "source": [
    "%%time\n",
    "\n",
    "auto_sklearn_metrics = {\n",
    "    'accuracy': [],\n",
    "    'f1': [],\n",
    "    'mcc': [],\n",
    "}\n",
    "\n",
    "for train_index, test_index in leave_one_out.split(X, y, X['Application Year']):\n",
    "    X_train, X_test = X.iloc[train_index], X.iloc[test_index]\n",
    "    y_train, y_test = y.iloc[train_index], y.iloc[test_index]\n",
    "    \n",
    "    automl = AutoSklearnClassifier(\n",
    "#         time_left_for_this_task=1200,\n",
    "        n_jobs=4,\n",
    "    )\n",
    "    automl.fit(X_train, y_train)\n",
    "    \n",
    "    y_hat = automl.predict(X_test)\n",
    "    \n",
    "    auto_sklearn_metrics['accuracy'].append(accuracy_score(y_test, y_hat))\n",
    "    auto_sklearn_metrics['f1'].append(f1_score(y_test, y_hat))\n",
    "    auto_sklearn_metrics['mcc'].append(matthews_corrcoef(y_test, y_hat))\n",
    "    # \n",
    "    # np.set_printoptions(precision=2)\n",
    "    # \n",
    "    # # Plot non-normalized confusion matrix\n",
    "    # plot_confusion_matrix(y_test, y_hat, classes=['Pass', 'Fail'],\n",
    "    #                       title='Confusion matrix, without normalization')\n",
    "    # \n",
    "    # # Plot normalized confusion matrix\n",
    "    # plot_confusion_matrix(y_test, y_hat, classes=['Pass', 'Fail'], normalize=True,\n",
    "    #                       title='Normalized confusion matrix')\n",
    "    # \n",
    "    # plt.show()\n",
    "\n",
    "print(auto_sklearn_metrics)"
   ]
  },
  {
   "cell_type": "markdown",
   "metadata": {
    "pycharm": {
     "metadata": false
    }
   },
   "source": [
    "# Auto-sklearn - Sample Weights"
   ]
  },
  {
   "cell_type": "code",
   "execution_count": 23,
   "metadata": {},
   "outputs": [
    {
     "data": {
      "text/plain": [
       "array([0.56575145, 0.56575145, 0.56575145, 0.56575145, 0.56575145])"
      ]
     },
     "execution_count": 23,
     "metadata": {},
     "output_type": "execute_result"
    }
   ],
   "source": [
    "sample_weights = compute_sample_weight('balanced', y)\n",
    "sample_weights[:5]"
   ]
  },
  {
   "cell_type": "code",
   "execution_count": 24,
   "metadata": {
    "pycharm": {
     "metadata": false,
     "name": "#%%\n"
    }
   },
   "outputs": [
    {
     "name": "stdout",
     "output_type": "stream",
     "text": [
      "[WARNING] [2019-04-13 03:16:38,582:EnsembleBuilder(1791095845):c27be3da148d3e84f3c3cb6ed4c689b3] No models better than random - using Dummy Score!\n",
      "[WARNING] [2019-04-13 03:16:38,669:EnsembleBuilder(1791095845):c27be3da148d3e84f3c3cb6ed4c689b3] No models better than random - using Dummy Score!\n",
      "[WARNING] [2019-04-13 03:16:44,417:smac.intensification.intensification.Intensifier] Challenger was the same as the current incumbent; Skipping challenger\n",
      "[WARNING] [2019-04-13 03:16:44,417:smac.intensification.intensification.Intensifier] Challenger was the same as the current incumbent; Skipping challenger\n",
      "[WARNING] [2019-04-13 03:34:40,120:smac.intensification.intensification.Intensifier] Challenger was the same as the current incumbent; Skipping challenger\n",
      "[WARNING] [2019-04-13 03:34:40,120:smac.intensification.intensification.Intensifier] Challenger was the same as the current incumbent; Skipping challenger\n",
      "[WARNING] [2019-04-13 04:16:48,044:EnsembleBuilder(1791095845):9eff06c1e84d4b2f5812d017bae29467] No models better than random - using Dummy Score!\n",
      "[WARNING] [2019-04-13 04:16:48,074:EnsembleBuilder(1791095845):9eff06c1e84d4b2f5812d017bae29467] No models better than random - using Dummy Score!\n",
      "[WARNING] [2019-04-13 04:16:54,209:smac.intensification.intensification.Intensifier] Challenger was the same as the current incumbent; Skipping challenger\n",
      "[WARNING] [2019-04-13 04:16:54,209:smac.intensification.intensification.Intensifier] Challenger was the same as the current incumbent; Skipping challenger\n"
     ]
    },
    {
     "ename": "JSONDecodeError",
     "evalue": "Expecting value: line 1 column 1 (char 0)",
     "output_type": "error",
     "traceback": [
      "\u001b[0;31m---------------------------------------------------------------------------\u001b[0m",
      "\u001b[0;31mJSONDecodeError\u001b[0m                           Traceback (most recent call last)",
      "\u001b[0;32m<timed exec>\u001b[0m in \u001b[0;36m<module>\u001b[0;34m\u001b[0m\n",
      "\u001b[0;32m~/.pyenv/versions/feature-engineering-aide/lib/python3.7/site-packages/autosklearn/estimators.py\u001b[0m in \u001b[0;36mfit\u001b[0;34m(self, X, y, X_test, y_test, metric, feat_type, dataset_name)\u001b[0m\n\u001b[1;32m    662\u001b[0m             \u001b[0mmetric\u001b[0m\u001b[0;34m=\u001b[0m\u001b[0mmetric\u001b[0m\u001b[0;34m,\u001b[0m\u001b[0;34m\u001b[0m\u001b[0;34m\u001b[0m\u001b[0m\n\u001b[1;32m    663\u001b[0m             \u001b[0mfeat_type\u001b[0m\u001b[0;34m=\u001b[0m\u001b[0mfeat_type\u001b[0m\u001b[0;34m,\u001b[0m\u001b[0;34m\u001b[0m\u001b[0;34m\u001b[0m\u001b[0m\n\u001b[0;32m--> 664\u001b[0;31m             \u001b[0mdataset_name\u001b[0m\u001b[0;34m=\u001b[0m\u001b[0mdataset_name\u001b[0m\u001b[0;34m,\u001b[0m\u001b[0;34m\u001b[0m\u001b[0;34m\u001b[0m\u001b[0m\n\u001b[0m\u001b[1;32m    665\u001b[0m         )\n\u001b[1;32m    666\u001b[0m \u001b[0;34m\u001b[0m\u001b[0m\n",
      "\u001b[0;32m~/.pyenv/versions/feature-engineering-aide/lib/python3.7/site-packages/autosklearn/estimators.py\u001b[0m in \u001b[0;36mfit\u001b[0;34m(self, **kwargs)\u001b[0m\n\u001b[1;32m    397\u001b[0m                 \u001b[0mautoml\u001b[0m\u001b[0;34m=\u001b[0m\u001b[0mself\u001b[0m\u001b[0;34m.\u001b[0m\u001b[0m_automl\u001b[0m\u001b[0;34m[\u001b[0m\u001b[0;36m0\u001b[0m\u001b[0;34m]\u001b[0m\u001b[0;34m,\u001b[0m\u001b[0;34m\u001b[0m\u001b[0;34m\u001b[0m\u001b[0m\n\u001b[1;32m    398\u001b[0m                 \u001b[0mkwargs\u001b[0m\u001b[0;34m=\u001b[0m\u001b[0mkwargs\u001b[0m\u001b[0;34m,\u001b[0m\u001b[0;34m\u001b[0m\u001b[0;34m\u001b[0m\u001b[0m\n\u001b[0;32m--> 399\u001b[0;31m                 \u001b[0mload_models\u001b[0m\u001b[0;34m=\u001b[0m\u001b[0;32mTrue\u001b[0m\u001b[0;34m,\u001b[0m\u001b[0;34m\u001b[0m\u001b[0;34m\u001b[0m\u001b[0m\n\u001b[0m\u001b[1;32m    400\u001b[0m             )\n\u001b[1;32m    401\u001b[0m             \u001b[0;32mfor\u001b[0m \u001b[0mp\u001b[0m \u001b[0;32min\u001b[0m \u001b[0mprocesses\u001b[0m\u001b[0;34m:\u001b[0m\u001b[0;34m\u001b[0m\u001b[0;34m\u001b[0m\u001b[0m\n",
      "\u001b[0;32m~/.pyenv/versions/feature-engineering-aide/lib/python3.7/site-packages/autosklearn/estimators.py\u001b[0m in \u001b[0;36m_fit_automl\u001b[0;34m(automl, kwargs, load_models)\u001b[0m\n\u001b[1;32m     13\u001b[0m \u001b[0;34m\u001b[0m\u001b[0m\n\u001b[1;32m     14\u001b[0m \u001b[0;32mdef\u001b[0m \u001b[0m_fit_automl\u001b[0m\u001b[0;34m(\u001b[0m\u001b[0mautoml\u001b[0m\u001b[0;34m,\u001b[0m \u001b[0mkwargs\u001b[0m\u001b[0;34m,\u001b[0m \u001b[0mload_models\u001b[0m\u001b[0;34m)\u001b[0m\u001b[0;34m:\u001b[0m\u001b[0;34m\u001b[0m\u001b[0;34m\u001b[0m\u001b[0m\n\u001b[0;32m---> 15\u001b[0;31m     \u001b[0;32mreturn\u001b[0m \u001b[0mautoml\u001b[0m\u001b[0;34m.\u001b[0m\u001b[0mfit\u001b[0m\u001b[0;34m(\u001b[0m\u001b[0mload_models\u001b[0m\u001b[0;34m=\u001b[0m\u001b[0mload_models\u001b[0m\u001b[0;34m,\u001b[0m \u001b[0;34m**\u001b[0m\u001b[0mkwargs\u001b[0m\u001b[0;34m)\u001b[0m\u001b[0;34m\u001b[0m\u001b[0;34m\u001b[0m\u001b[0m\n\u001b[0m\u001b[1;32m     16\u001b[0m \u001b[0;34m\u001b[0m\u001b[0m\n\u001b[1;32m     17\u001b[0m \u001b[0;34m\u001b[0m\u001b[0m\n",
      "\u001b[0;32m~/.pyenv/versions/feature-engineering-aide/lib/python3.7/site-packages/autosklearn/automl.py\u001b[0m in \u001b[0;36mfit\u001b[0;34m(self, X, y, X_test, y_test, metric, feat_type, dataset_name, only_return_configuration_space, load_models)\u001b[0m\n\u001b[1;32m    994\u001b[0m             \u001b[0mdataset_name\u001b[0m\u001b[0;34m=\u001b[0m\u001b[0mdataset_name\u001b[0m\u001b[0;34m,\u001b[0m\u001b[0;34m\u001b[0m\u001b[0;34m\u001b[0m\u001b[0m\n\u001b[1;32m    995\u001b[0m             \u001b[0monly_return_configuration_space\u001b[0m\u001b[0;34m=\u001b[0m\u001b[0monly_return_configuration_space\u001b[0m\u001b[0;34m,\u001b[0m\u001b[0;34m\u001b[0m\u001b[0;34m\u001b[0m\u001b[0m\n\u001b[0;32m--> 996\u001b[0;31m             \u001b[0mload_models\u001b[0m\u001b[0;34m=\u001b[0m\u001b[0mload_models\u001b[0m\u001b[0;34m,\u001b[0m\u001b[0;34m\u001b[0m\u001b[0;34m\u001b[0m\u001b[0m\n\u001b[0m\u001b[1;32m    997\u001b[0m         )\n\u001b[1;32m    998\u001b[0m \u001b[0;34m\u001b[0m\u001b[0m\n",
      "\u001b[0;32m~/.pyenv/versions/feature-engineering-aide/lib/python3.7/site-packages/autosklearn/automl.py\u001b[0m in \u001b[0;36mfit\u001b[0;34m(self, X, y, task, metric, X_test, y_test, feat_type, dataset_name, only_return_configuration_space, load_models)\u001b[0m\n\u001b[1;32m    206\u001b[0m             \u001b[0mmetric\u001b[0m\u001b[0;34m=\u001b[0m\u001b[0mmetric\u001b[0m\u001b[0;34m,\u001b[0m\u001b[0;34m\u001b[0m\u001b[0;34m\u001b[0m\u001b[0m\n\u001b[1;32m    207\u001b[0m             \u001b[0mload_models\u001b[0m\u001b[0;34m=\u001b[0m\u001b[0mload_models\u001b[0m\u001b[0;34m,\u001b[0m\u001b[0;34m\u001b[0m\u001b[0;34m\u001b[0m\u001b[0m\n\u001b[0;32m--> 208\u001b[0;31m             \u001b[0monly_return_configuration_space\u001b[0m\u001b[0;34m=\u001b[0m\u001b[0monly_return_configuration_space\u001b[0m\u001b[0;34m,\u001b[0m\u001b[0;34m\u001b[0m\u001b[0;34m\u001b[0m\u001b[0m\n\u001b[0m\u001b[1;32m    209\u001b[0m         )\n\u001b[1;32m    210\u001b[0m \u001b[0;34m\u001b[0m\u001b[0m\n",
      "\u001b[0;32m~/.pyenv/versions/feature-engineering-aide/lib/python3.7/site-packages/autosklearn/automl.py\u001b[0m in \u001b[0;36m_fit\u001b[0;34m(self, datamanager, metric, load_models, only_return_configuration_space)\u001b[0m\n\u001b[1;32m    487\u001b[0m             )\n\u001b[1;32m    488\u001b[0m             \u001b[0mself\u001b[0m\u001b[0;34m.\u001b[0m\u001b[0mrunhistory_\u001b[0m\u001b[0;34m,\u001b[0m \u001b[0mself\u001b[0m\u001b[0;34m.\u001b[0m\u001b[0mtrajectory_\u001b[0m \u001b[0;34m=\u001b[0m\u001b[0;31m \u001b[0m\u001b[0;31m\\\u001b[0m\u001b[0;34m\u001b[0m\u001b[0;34m\u001b[0m\u001b[0m\n\u001b[0;32m--> 489\u001b[0;31m                 \u001b[0m_proc_smac\u001b[0m\u001b[0;34m.\u001b[0m\u001b[0mrun_smbo\u001b[0m\u001b[0;34m(\u001b[0m\u001b[0;34m)\u001b[0m\u001b[0;34m\u001b[0m\u001b[0;34m\u001b[0m\u001b[0m\n\u001b[0m\u001b[1;32m    490\u001b[0m             trajectory_filename = os.path.join(\n\u001b[1;32m    491\u001b[0m                 \u001b[0mself\u001b[0m\u001b[0;34m.\u001b[0m\u001b[0m_backend\u001b[0m\u001b[0;34m.\u001b[0m\u001b[0mget_smac_output_directory_for_run\u001b[0m\u001b[0;34m(\u001b[0m\u001b[0mself\u001b[0m\u001b[0;34m.\u001b[0m\u001b[0m_seed\u001b[0m\u001b[0;34m)\u001b[0m\u001b[0;34m,\u001b[0m\u001b[0;34m\u001b[0m\u001b[0;34m\u001b[0m\u001b[0m\n",
      "\u001b[0;32m~/.pyenv/versions/feature-engineering-aide/lib/python3.7/site-packages/autosklearn/smbo.py\u001b[0m in \u001b[0;36mrun_smbo\u001b[0;34m(self)\u001b[0m\n\u001b[1;32m    511\u001b[0m                 \u001b[0moutput_dirs\u001b[0m\u001b[0;34m=\u001b[0m\u001b[0msmac\u001b[0m\u001b[0;34m.\u001b[0m\u001b[0msolver\u001b[0m\u001b[0;34m.\u001b[0m\u001b[0mscenario\u001b[0m\u001b[0;34m.\u001b[0m\u001b[0minput_psmac_dirs\u001b[0m\u001b[0;34m,\u001b[0m\u001b[0;34m\u001b[0m\u001b[0;34m\u001b[0m\u001b[0m\n\u001b[1;32m    512\u001b[0m                 \u001b[0mconfiguration_space\u001b[0m\u001b[0;34m=\u001b[0m\u001b[0msmac\u001b[0m\u001b[0;34m.\u001b[0m\u001b[0msolver\u001b[0m\u001b[0;34m.\u001b[0m\u001b[0mconfig_space\u001b[0m\u001b[0;34m,\u001b[0m\u001b[0;34m\u001b[0m\u001b[0;34m\u001b[0m\u001b[0m\n\u001b[0;32m--> 513\u001b[0;31m                 \u001b[0mlogger\u001b[0m\u001b[0;34m=\u001b[0m\u001b[0msmac\u001b[0m\u001b[0;34m.\u001b[0m\u001b[0msolver\u001b[0m\u001b[0;34m.\u001b[0m\u001b[0mlogger\u001b[0m\u001b[0;34m,\u001b[0m\u001b[0;34m\u001b[0m\u001b[0;34m\u001b[0m\u001b[0m\n\u001b[0m\u001b[1;32m    514\u001b[0m             )\n\u001b[1;32m    515\u001b[0m \u001b[0;34m\u001b[0m\u001b[0m\n",
      "\u001b[0;32m~/.pyenv/versions/feature-engineering-aide/lib/python3.7/site-packages/smac/optimizer/pSMAC.py\u001b[0m in \u001b[0;36mread\u001b[0;34m(run_history, output_dirs, configuration_space, logger)\u001b[0m\n\u001b[1;32m     49\u001b[0m                                                file_in_output_directory)\n\u001b[1;32m     50\u001b[0m                 run_history.update_from_json(runhistory_file,\n\u001b[0;32m---> 51\u001b[0;31m                                              configuration_space)\n\u001b[0m\u001b[1;32m     52\u001b[0m \u001b[0;34m\u001b[0m\u001b[0m\n\u001b[1;32m     53\u001b[0m                 \u001b[0mnew_numruns_in_runhistory\u001b[0m \u001b[0;34m=\u001b[0m \u001b[0mlen\u001b[0m\u001b[0;34m(\u001b[0m\u001b[0mrun_history\u001b[0m\u001b[0;34m.\u001b[0m\u001b[0mdata\u001b[0m\u001b[0;34m)\u001b[0m\u001b[0;34m\u001b[0m\u001b[0;34m\u001b[0m\u001b[0m\n",
      "\u001b[0;32m~/.pyenv/versions/feature-engineering-aide/lib/python3.7/site-packages/smac/runhistory/runhistory.py\u001b[0m in \u001b[0;36mupdate_from_json\u001b[0;34m(self, fn, cs, origin)\u001b[0m\n\u001b[1;32m    379\u001b[0m         \"\"\"\n\u001b[1;32m    380\u001b[0m         \u001b[0mnew_runhistory\u001b[0m \u001b[0;34m=\u001b[0m \u001b[0mRunHistory\u001b[0m\u001b[0;34m(\u001b[0m\u001b[0mself\u001b[0m\u001b[0;34m.\u001b[0m\u001b[0maggregate_func\u001b[0m\u001b[0;34m)\u001b[0m\u001b[0;34m\u001b[0m\u001b[0;34m\u001b[0m\u001b[0m\n\u001b[0;32m--> 381\u001b[0;31m         \u001b[0mnew_runhistory\u001b[0m\u001b[0;34m.\u001b[0m\u001b[0mload_json\u001b[0m\u001b[0;34m(\u001b[0m\u001b[0mfn\u001b[0m\u001b[0;34m,\u001b[0m \u001b[0mcs\u001b[0m\u001b[0;34m)\u001b[0m\u001b[0;34m\u001b[0m\u001b[0;34m\u001b[0m\u001b[0m\n\u001b[0m\u001b[1;32m    382\u001b[0m         \u001b[0mself\u001b[0m\u001b[0;34m.\u001b[0m\u001b[0mupdate\u001b[0m\u001b[0;34m(\u001b[0m\u001b[0mrunhistory\u001b[0m\u001b[0;34m=\u001b[0m\u001b[0mnew_runhistory\u001b[0m\u001b[0;34m,\u001b[0m \u001b[0morigin\u001b[0m\u001b[0;34m=\u001b[0m\u001b[0morigin\u001b[0m\u001b[0;34m)\u001b[0m\u001b[0;34m\u001b[0m\u001b[0;34m\u001b[0m\u001b[0m\n\u001b[1;32m    383\u001b[0m \u001b[0;34m\u001b[0m\u001b[0m\n",
      "\u001b[0;32m~/.pyenv/versions/feature-engineering-aide/lib/python3.7/site-packages/smac/runhistory/runhistory.py\u001b[0m in \u001b[0;36mload_json\u001b[0;34m(self, fn, cs)\u001b[0m\n\u001b[1;32m    346\u001b[0m         \"\"\"\n\u001b[1;32m    347\u001b[0m         \u001b[0;32mwith\u001b[0m \u001b[0mopen\u001b[0m\u001b[0;34m(\u001b[0m\u001b[0mfn\u001b[0m\u001b[0;34m)\u001b[0m \u001b[0;32mas\u001b[0m \u001b[0mfp\u001b[0m\u001b[0;34m:\u001b[0m\u001b[0;34m\u001b[0m\u001b[0;34m\u001b[0m\u001b[0m\n\u001b[0;32m--> 348\u001b[0;31m             \u001b[0mall_data\u001b[0m \u001b[0;34m=\u001b[0m \u001b[0mjson\u001b[0m\u001b[0;34m.\u001b[0m\u001b[0mload\u001b[0m\u001b[0;34m(\u001b[0m\u001b[0mfp\u001b[0m\u001b[0;34m,\u001b[0m \u001b[0mobject_hook\u001b[0m\u001b[0;34m=\u001b[0m\u001b[0mStatusType\u001b[0m\u001b[0;34m.\u001b[0m\u001b[0menum_hook\u001b[0m\u001b[0;34m)\u001b[0m\u001b[0;34m\u001b[0m\u001b[0;34m\u001b[0m\u001b[0m\n\u001b[0m\u001b[1;32m    349\u001b[0m \u001b[0;34m\u001b[0m\u001b[0m\n\u001b[1;32m    350\u001b[0m         self.ids_config = {int(id_): Configuration(cs, values=values)\n",
      "\u001b[0;32m~/.pyenv/versions/3.7.2/lib/python3.7/json/__init__.py\u001b[0m in \u001b[0;36mload\u001b[0;34m(fp, cls, object_hook, parse_float, parse_int, parse_constant, object_pairs_hook, **kw)\u001b[0m\n\u001b[1;32m    294\u001b[0m         \u001b[0mcls\u001b[0m\u001b[0;34m=\u001b[0m\u001b[0mcls\u001b[0m\u001b[0;34m,\u001b[0m \u001b[0mobject_hook\u001b[0m\u001b[0;34m=\u001b[0m\u001b[0mobject_hook\u001b[0m\u001b[0;34m,\u001b[0m\u001b[0;34m\u001b[0m\u001b[0;34m\u001b[0m\u001b[0m\n\u001b[1;32m    295\u001b[0m         \u001b[0mparse_float\u001b[0m\u001b[0;34m=\u001b[0m\u001b[0mparse_float\u001b[0m\u001b[0;34m,\u001b[0m \u001b[0mparse_int\u001b[0m\u001b[0;34m=\u001b[0m\u001b[0mparse_int\u001b[0m\u001b[0;34m,\u001b[0m\u001b[0;34m\u001b[0m\u001b[0;34m\u001b[0m\u001b[0m\n\u001b[0;32m--> 296\u001b[0;31m         parse_constant=parse_constant, object_pairs_hook=object_pairs_hook, **kw)\n\u001b[0m\u001b[1;32m    297\u001b[0m \u001b[0;34m\u001b[0m\u001b[0m\n\u001b[1;32m    298\u001b[0m \u001b[0;34m\u001b[0m\u001b[0m\n",
      "\u001b[0;32m~/.pyenv/versions/3.7.2/lib/python3.7/json/__init__.py\u001b[0m in \u001b[0;36mloads\u001b[0;34m(s, encoding, cls, object_hook, parse_float, parse_int, parse_constant, object_pairs_hook, **kw)\u001b[0m\n\u001b[1;32m    359\u001b[0m     \u001b[0;32mif\u001b[0m \u001b[0mparse_constant\u001b[0m \u001b[0;32mis\u001b[0m \u001b[0;32mnot\u001b[0m \u001b[0;32mNone\u001b[0m\u001b[0;34m:\u001b[0m\u001b[0;34m\u001b[0m\u001b[0;34m\u001b[0m\u001b[0m\n\u001b[1;32m    360\u001b[0m         \u001b[0mkw\u001b[0m\u001b[0;34m[\u001b[0m\u001b[0;34m'parse_constant'\u001b[0m\u001b[0;34m]\u001b[0m \u001b[0;34m=\u001b[0m \u001b[0mparse_constant\u001b[0m\u001b[0;34m\u001b[0m\u001b[0;34m\u001b[0m\u001b[0m\n\u001b[0;32m--> 361\u001b[0;31m     \u001b[0;32mreturn\u001b[0m \u001b[0mcls\u001b[0m\u001b[0;34m(\u001b[0m\u001b[0;34m**\u001b[0m\u001b[0mkw\u001b[0m\u001b[0;34m)\u001b[0m\u001b[0;34m.\u001b[0m\u001b[0mdecode\u001b[0m\u001b[0;34m(\u001b[0m\u001b[0ms\u001b[0m\u001b[0;34m)\u001b[0m\u001b[0;34m\u001b[0m\u001b[0;34m\u001b[0m\u001b[0m\n\u001b[0m",
      "\u001b[0;32m~/.pyenv/versions/3.7.2/lib/python3.7/json/decoder.py\u001b[0m in \u001b[0;36mdecode\u001b[0;34m(self, s, _w)\u001b[0m\n\u001b[1;32m    335\u001b[0m \u001b[0;34m\u001b[0m\u001b[0m\n\u001b[1;32m    336\u001b[0m         \"\"\"\n\u001b[0;32m--> 337\u001b[0;31m         \u001b[0mobj\u001b[0m\u001b[0;34m,\u001b[0m \u001b[0mend\u001b[0m \u001b[0;34m=\u001b[0m \u001b[0mself\u001b[0m\u001b[0;34m.\u001b[0m\u001b[0mraw_decode\u001b[0m\u001b[0;34m(\u001b[0m\u001b[0ms\u001b[0m\u001b[0;34m,\u001b[0m \u001b[0midx\u001b[0m\u001b[0;34m=\u001b[0m\u001b[0m_w\u001b[0m\u001b[0;34m(\u001b[0m\u001b[0ms\u001b[0m\u001b[0;34m,\u001b[0m \u001b[0;36m0\u001b[0m\u001b[0;34m)\u001b[0m\u001b[0;34m.\u001b[0m\u001b[0mend\u001b[0m\u001b[0;34m(\u001b[0m\u001b[0;34m)\u001b[0m\u001b[0;34m)\u001b[0m\u001b[0;34m\u001b[0m\u001b[0;34m\u001b[0m\u001b[0m\n\u001b[0m\u001b[1;32m    338\u001b[0m         \u001b[0mend\u001b[0m \u001b[0;34m=\u001b[0m \u001b[0m_w\u001b[0m\u001b[0;34m(\u001b[0m\u001b[0ms\u001b[0m\u001b[0;34m,\u001b[0m \u001b[0mend\u001b[0m\u001b[0;34m)\u001b[0m\u001b[0;34m.\u001b[0m\u001b[0mend\u001b[0m\u001b[0;34m(\u001b[0m\u001b[0;34m)\u001b[0m\u001b[0;34m\u001b[0m\u001b[0;34m\u001b[0m\u001b[0m\n\u001b[1;32m    339\u001b[0m         \u001b[0;32mif\u001b[0m \u001b[0mend\u001b[0m \u001b[0;34m!=\u001b[0m \u001b[0mlen\u001b[0m\u001b[0;34m(\u001b[0m\u001b[0ms\u001b[0m\u001b[0;34m)\u001b[0m\u001b[0;34m:\u001b[0m\u001b[0;34m\u001b[0m\u001b[0;34m\u001b[0m\u001b[0m\n",
      "\u001b[0;32m~/.pyenv/versions/3.7.2/lib/python3.7/json/decoder.py\u001b[0m in \u001b[0;36mraw_decode\u001b[0;34m(self, s, idx)\u001b[0m\n\u001b[1;32m    353\u001b[0m             \u001b[0mobj\u001b[0m\u001b[0;34m,\u001b[0m \u001b[0mend\u001b[0m \u001b[0;34m=\u001b[0m \u001b[0mself\u001b[0m\u001b[0;34m.\u001b[0m\u001b[0mscan_once\u001b[0m\u001b[0;34m(\u001b[0m\u001b[0ms\u001b[0m\u001b[0;34m,\u001b[0m \u001b[0midx\u001b[0m\u001b[0;34m)\u001b[0m\u001b[0;34m\u001b[0m\u001b[0;34m\u001b[0m\u001b[0m\n\u001b[1;32m    354\u001b[0m         \u001b[0;32mexcept\u001b[0m \u001b[0mStopIteration\u001b[0m \u001b[0;32mas\u001b[0m \u001b[0merr\u001b[0m\u001b[0;34m:\u001b[0m\u001b[0;34m\u001b[0m\u001b[0;34m\u001b[0m\u001b[0m\n\u001b[0;32m--> 355\u001b[0;31m             \u001b[0;32mraise\u001b[0m \u001b[0mJSONDecodeError\u001b[0m\u001b[0;34m(\u001b[0m\u001b[0;34m\"Expecting value\"\u001b[0m\u001b[0;34m,\u001b[0m \u001b[0ms\u001b[0m\u001b[0;34m,\u001b[0m \u001b[0merr\u001b[0m\u001b[0;34m.\u001b[0m\u001b[0mvalue\u001b[0m\u001b[0;34m)\u001b[0m \u001b[0;32mfrom\u001b[0m \u001b[0;32mNone\u001b[0m\u001b[0;34m\u001b[0m\u001b[0;34m\u001b[0m\u001b[0m\n\u001b[0m\u001b[1;32m    356\u001b[0m         \u001b[0;32mreturn\u001b[0m \u001b[0mobj\u001b[0m\u001b[0;34m,\u001b[0m \u001b[0mend\u001b[0m\u001b[0;34m\u001b[0m\u001b[0;34m\u001b[0m\u001b[0m\n",
      "\u001b[0;31mJSONDecodeError\u001b[0m: Expecting value: line 1 column 1 (char 0)"
     ]
    }
   ],
   "source": [
    "%%time\n",
    "\n",
    "auto_sklearn_metrics = {\n",
    "    'accuracy': [],\n",
    "    'f1': [],\n",
    "    'mcc': [],\n",
    "}\n",
    "\n",
    "\n",
    "for train_index, test_index in leave_one_out.split(X, y, X['Application Year']):\n",
    "    X_train, X_test = X.iloc[train_index], X.iloc[test_index]\n",
    "    y_train, y_test = y.iloc[train_index], y.iloc[test_index]\n",
    "    \n",
    "    test_weights = sample_weights[test_index]\n",
    "    \n",
    "    automl = AutoSklearnClassifier(\n",
    "#         time_left_for_this_task=1200,\n",
    "        n_jobs=4,\n",
    "    )\n",
    "    automl.fit(X_train, y_train)\n",
    "    \n",
    "    y_hat = automl.predict(X_test)\n",
    "    \n",
    "    auto_sklearn_metrics['accuracy'].append(\n",
    "        accuracy_score(y_test, y_hat, sample_weight=test_weights),\n",
    "    )\n",
    "    auto_sklearn_metrics['f1'].append(f1_score(y_test, y_hat, sample_weight=test_weights))\n",
    "    auto_sklearn_metrics['mcc'].append(\n",
    "        matthews_corrcoef(y_test, y_hat, sample_weight=test_weights),\n",
    "    )\n",
    "    # \n",
    "    # np.set_printoptions(precision=2)\n",
    "    # \n",
    "    # # Plot non-normalized confusion matrix\n",
    "    # plot_confusion_matrix(y_test, y_hat, classes=['Pass', 'Fail'],\n",
    "    #                       title='Confusion matrix, without normalization')\n",
    "    # \n",
    "    # # Plot normalized confusion matrix\n",
    "    # plot_confusion_matrix(y_test, y_hat, classes=['Pass', 'Fail'], normalize=True,\n",
    "    #                       title='Normalized confusion matrix')\n",
    "    # \n",
    "    # plt.show()\n",
    "\n",
    "print(auto_sklearn_metrics)"
   ]
  },
  {
   "cell_type": "code",
   "execution_count": 25,
   "metadata": {
    "pycharm": {
     "metadata": false,
     "name": "#%%\n"
    }
   },
   "outputs": [],
   "source": [
    "# from tpot import TPOTClassifier\n",
    "\n",
    "\n",
    "# tpot_metrics = {\n",
    "#     'accuracy': [],\n",
    "#     'f1': [],\n",
    "#     'mcc': [],\n",
    "# }\n",
    "\n",
    "# for train_index, test_index in leave_one_out.split(X, y, X['Application Year']):\n",
    "#     X_train, X_test = X.iloc[train_index], X.iloc[test_index]\n",
    "#     y_train, y_test = y.iloc[train_index], y.iloc[test_index]\n",
    "\n",
    "#     tpot = TPOTClassifier(\n",
    "#         generations=5, \n",
    "#         population_size=20, \n",
    "#         max_time_mins=20, \n",
    "#         n_jobs=4,\n",
    "#         verbosity=2,\n",
    "#     )\n",
    "#     tpot.fit(X_train, y_train)\n",
    "   \n",
    "#     y_hat = tpot.predict(X_test)\n",
    "    \n",
    "#     application_year_label_id = X_train['Application Year'].iloc[0]\n",
    "#     application_year_label = label_encoded_cols['Application Year'].inverse_transform(\n",
    "#         [application_year_label_id],\n",
    "#     )[0]\n",
    "    \n",
    "#     tpot.export(f'tpot_csc_pipeline_{application_year_label}.py')\n",
    "    \n",
    "#     tpot_metrics['accuracy'].append(accuracy_score(y_test, y_hat))\n",
    "#     tpot_metrics['f1'].append(f1_score(y_test, y_hat))\n",
    "    \n",
    "# print(tpot_metrics)"
   ]
  }
 ],
 "metadata": {
  "kernelspec": {
   "display_name": "Python 3",
   "language": "python",
   "name": "python3"
  },
  "language_info": {
   "codemirror_mode": {
    "name": "ipython",
    "version": 3
   },
   "file_extension": ".py",
   "mimetype": "text/x-python",
   "name": "python",
   "nbconvert_exporter": "python",
   "pygments_lexer": "ipython3",
   "version": "3.7.2"
  },
  "stem_cell": {
   "cell_type": "raw",
   "metadata": {
    "pycharm": {
     "metadata": false
    }
   },
   "source": ""
  }
 },
 "nbformat": 4,
 "nbformat_minor": 1
}
