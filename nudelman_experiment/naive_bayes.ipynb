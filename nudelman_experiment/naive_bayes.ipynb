{
 "cells": [
  {
   "cell_type": "code",
   "execution_count": 2,
   "metadata": {
    "pycharm": {
     "is_executing": false,
     "name": "#%%\n"
    }
   },
   "outputs": [],
   "source": [
    "from pathlib import Path\n",
    "import sys\n",
    "from dotmap import DotMap\n",
    "import pandas as pd\n",
    "from tqdm import tqdm\n",
    "import toml\n",
    "\n",
    "from collections import defaultdict\n",
    "\n",
    "from sklearn.model_selection import LeaveOneGroupOut\n",
    "from sklearn.preprocessing import LabelEncoder\n",
    "\n",
    "from experiment_config.settings import SUPPORTED_CLASSIFIERS, SUPPORTED_METRICS\n",
    "\n",
    "\n",
    "experiment_input_paths = sys.argv[1:]\n",
    "if not experiment_input_paths:\n",
    "    print('Please pass in experiment files as arguments to this script')\n",
    "    \n",
    "experiment_file_paths = [Path(experiment_file) for experiment_file in experiment_input_paths]\n",
    "\n",
    "experiment_configs = []\n",
    "\n",
    "for experiment_file_path in experiment_file_paths:\n",
    "    if experiment_file_path.is_dir():\n",
    "        print(f'Can not handle {experiment_file_path.absolute()} as it is a directory!')\n",
    "        continue\n",
    "\n",
    "    with experiment_file_path.open() as experiment_file:\n",
    "        experiment_config = toml.load(experiment_file, _dict=DotMap)\n",
    "        experiment_configs.append(experiment_config)\n",
    "        \n",
    "\n",
    "for experiment_config in experiment_configs:\n",
    "    prediction_data_file = Path(experiment_config.data_source.path)\n",
    "    \n",
    "    prediction_true_values = experiment_config.features.true_values\n",
    "    prediction_false_values = experiment_config.features.false_values\n",
    "    \n",
    "    prediction_data_types = experiment_config.features.data_types\n",
    "    \n",
    "    prediction_data_rows = experiment_config.data_source.selected_features\n",
    "    target_column = experiment_config.data_source.target\n",
    "    \n",
    "    prediction_na_values = {\n",
    "        'CSCBin': '*',\n",
    "    }\n",
    "    \n",
    "    \n",
    "    prediction_data = pd.read_csv(\n",
    "        filepath_or_buffer=prediction_data_file,\n",
    "        dtype=prediction_data_types,\n",
    "        true_values=prediction_true_values,\n",
    "        false_values=prediction_false_values,\n",
    "        na_values=prediction_na_values,\n",
    "        keep_default_na=False,\n",
    "    )\n",
    "    prediction_data = prediction_data.astype({'CSCBin': 'bool'})\n",
    "\n",
    "    label_encoded_cols = defaultdict(LabelEncoder)\n",
    "    \n",
    "    training_data = prediction_data.apply(\n",
    "        lambda x: label_encoded_cols[x.name].fit_transform(x)\n",
    "    )\n",
    "    \n",
    "    X = training_data[prediction_data_rows]\n",
    "    y = training_data[target_column]\n",
    "    \n",
    "    leave_one_out = LeaveOneGroupOut()\n",
    "\n",
    "    result_metrics = {metric: [] for metric in experiment_config.metrics}\n",
    "    classifiers = {\n",
    "        classifier: SUPPORTED_CLASSIFIERS[classifier] \n",
    "        for classifier in experiment_config.classifiers\n",
    "    }\n",
    "    \n",
    "    for classifier_name, classifier_class in classifiers.items():\n",
    "        print(f'Running {classifier_name}')\n",
    "        for train_index, test_index in tqdm(leave_one_out.split(X, y, X['Application Year'])):\n",
    "            X_train, X_test = X.iloc[train_index], X.iloc[test_index]\n",
    "            y_train, y_test = y.iloc[train_index], y.iloc[test_index]\n",
    "            \n",
    "            classifier = classifier_class()\n",
    "            classifier.fit(X_train, y_train)\n",
    "            \n",
    "            y_hat = classifier.predict(X_test)\n",
    "            \n",
    "            for metric in result_metrics.keys():\n",
    "                metric_function = SUPPORTED_METRICS[metric]\n",
    "                result_metrics[classifier_name][metric].append(metric_function(y_test, y_hat))\n",
    "            \n",
    "        print(classifier_name, result_metrics)"
   ]
  }
 ],
 "metadata": {
  "kernelspec": {
   "display_name": "Python 3",
   "language": "python",
   "name": "python3"
  },
  "language_info": {
   "codemirror_mode": {
    "name": "ipython",
    "version": 3
   },
   "file_extension": ".py",
   "mimetype": "text/x-python",
   "name": "python",
   "nbconvert_exporter": "python",
   "pygments_lexer": "ipython3",
   "version": "3.7.2"
  },
  "pycharm": {
   "stem_cell": {
    "cell_type": "raw",
    "source": [],
    "metadata": {
     "collapsed": false
    }
   }
  }
 },
 "nbformat": 4,
 "nbformat_minor": 1
}