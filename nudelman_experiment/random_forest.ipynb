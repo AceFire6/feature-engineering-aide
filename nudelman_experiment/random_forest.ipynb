{
 "cells": [
  {
   "cell_type": "code",
   "execution_count": 5,
   "metadata": {
    "pycharm": {
     "is_executing": false
    }
   },
   "outputs": [
    {
     "data": {
      "text/plain": "FinAid                  bool\nApplication Year    category\nEngBin              category\nAveSciBin           category\nALQLBin             category\nProvince            category\nQuintile            category\nCSCBin                  bool\nAdMathAttempt           bool\ndtype: object"
     },
     "metadata": {},
     "output_type": "execute_result",
     "execution_count": 5
    }
   ],
   "source": [
    "from pathlib import Path\n",
    "import pandas as pd\n",
    "from tqdm import tqdm\n",
    "\n",
    "\n",
    "csc_prediction_data_file = Path('../data_files/CSCFull.csv')\n",
    "\n",
    "csc_prediction_true_values = ['Yes', 'Pass']\n",
    "csc_prediction_false_values = ['No', 'Fail']\n",
    "csc_prediction_data_types = {\n",
    "    'ALQLBin': 'category',\n",
    "    'Application Year': 'category',\n",
    "    'AveSciBin': 'category',\n",
    "    'EngBin': 'category',\n",
    "    'Quintile': 'category',\n",
    "    'Province': 'category',\n",
    "}\n",
    "csc_prediction_na_values = {\n",
    "    'CSCBin': ['*'],\n",
    "    'ALQLBin': ['*'],\n",
    "    'AveSciBin': ['*'],\n",
    "    'EngBin': ['*'],\n",
    "    'Quintile': ['*'],\n",
    "    'Province': ['*'],\n",
    "}\n",
    "\n",
    "csc_prediction_data_rows = [\n",
    "    'AdMathAttempt',\n",
    "    'ALQLBin',\n",
    "    'Application Year',\n",
    "    'AveSciBin',\n",
    "    'EngBin',\n",
    "    'FinAid',\n",
    "    'Province',\n",
    "    'Quintile',\n",
    "]\n",
    "\n",
    "csc_prediction_data = pd.read_csv(\n",
    "    filepath_or_buffer=csc_prediction_data_file,\n",
    "    dtype=csc_prediction_data_types,\n",
    "    usecols=csc_prediction_data_rows + ['CSCBin'],\n",
    "    true_values=csc_prediction_true_values,\n",
    "    false_values=csc_prediction_false_values,\n",
    "    na_values=csc_prediction_na_values,\n",
    "    keep_default_na=False,\n",
    ")\n",
    "csc_prediction_data = csc_prediction_data.astype({'CSCBin': 'bool'})\n",
    "csc_prediction_data.dtypes\n"
   ]
  },
  {
   "cell_type": "code",
   "execution_count": 11,
   "metadata": {
    "pycharm": {
     "name": "#%%\n"
    }
   },
   "outputs": [],
   "source": [
    "from collections import defaultdict\n",
    "\n",
    "from sklearn.ensemble import RandomForestClassifier\n",
    "from sklearn.model_selection import LeaveOneGroupOut\n",
    "from sklearn.metrics import accuracy_score, f1_score, matthews_corrcoef\n",
    "from sklearn.preprocessing import LabelEncoder\n",
    "\n",
    "\n",
    "label_encoded_cols = defaultdict(LabelEncoder)\n",
    "\n",
    "training_data = csc_prediction_data.apply(\n",
    "    lambda x: label_encoded_cols[x.name].fit_transform(x)\n",
    ")\n",
    "\n",
    "X = training_data[csc_prediction_data_rows]\n",
    "y = training_data['CSCBin']\n",
    "\n",
    "leave_one_out = LeaveOneGroupOut()\n"
   ]
  },
  {
   "cell_type": "code",
   "execution_count": 12,
   "metadata": {
    "pycharm": {
     "name": "#%%\n"
    }
   },
   "outputs": [
    {
     "name": "stderr",
     "output_type": "stream",
     "text": [
      "10it [00:02,  4.59it/s]"
     ]
    },
    {
     "name": "stdout",
     "output_type": "stream",
     "text": [
      "{'accuracy': [0.8292682926829268, 0.75, 0.855072463768116, 0.9285714285714286, 0.8666666666666667, 0.9032258064516129, 0.7802197802197802, 0.7446808510638298, 0.8255813953488372, 0.8809523809523809], 'f1': [0.9014084507042254, 0.8505747126436781, 0.9206349206349207, 0.9622641509433962, 0.9285714285714286, 0.9491525423728814, 0.875, 0.8518518518518517, 0.9044585987261146, 0.9350649350649352], 'mcc': [0.26745913993429266, 0.08670081183498068, 0.1284457725980754, 0.43064433753916403, -0.07142857142857142, -0.04229549344378136, 0.008157868529511848, -0.0515386141661764, -0.07655901625358509, 0.2326771136615827]}\n"
     ]
    },
    {
     "name": "stderr",
     "output_type": "stream",
     "text": [
      "\n"
     ]
    }
   ],
   "source": [
    "auto_sklearn_metrics = {\n",
    "    'accuracy': [],\n",
    "    'f1': [],\n",
    "    'mcc': [],\n",
    "}\n",
    "\n",
    "for train_index, test_index in tqdm(leave_one_out.split(X, y, X['Application Year'])):\n",
    "    X_train, X_test = X.iloc[train_index], X.iloc[test_index]\n",
    "    y_train, y_test = y.iloc[train_index], y.iloc[test_index]\n",
    "    \n",
    "    random_forest = RandomForestClassifier(n_estimators=10, n_jobs=-1)\n",
    "    random_forest.fit(X_train, y_train)\n",
    "    \n",
    "    y_hat = random_forest.predict(X_test)\n",
    "    \n",
    "    auto_sklearn_metrics['accuracy'].append(accuracy_score(y_test, y_hat))\n",
    "    auto_sklearn_metrics['f1'].append(f1_score(y_test, y_hat))\n",
    "    auto_sklearn_metrics['mcc'].append(matthews_corrcoef(y_test, y_hat))\n",
    "    \n",
    "print(auto_sklearn_metrics)\n"
   ]
  }
 ],
 "metadata": {
  "kernelspec": {
   "display_name": "Python 3",
   "language": "python",
   "name": "python3"
  },
  "language_info": {
   "codemirror_mode": {
    "name": "ipython",
    "version": 3
   },
   "file_extension": ".py",
   "mimetype": "text/x-python",
   "name": "python",
   "nbconvert_exporter": "python",
   "pygments_lexer": "ipython3",
   "version": "3.7.2"
  },
  "pycharm": {
   "stem_cell": {
    "cell_type": "raw",
    "source": [],
    "metadata": {
     "collapsed": false
    }
   }
  }
 },
 "nbformat": 4,
 "nbformat_minor": 1
}