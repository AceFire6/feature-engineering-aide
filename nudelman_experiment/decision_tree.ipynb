{
 "cells": [
  {
   "cell_type": "code",
   "execution_count": 1,
   "metadata": {
    "collapsed": true,
    "pycharm": {
     "is_executing": false
    }
   },
   "outputs": [],
   "source": [
    "from pathlib import Path\n",
    "import pandas as pd\n",
    "from tqdm import tqdm\n",
    "\n",
    "\n",
    "csc_prediction_data_file = Path('../data_files/CSCFull.csv')\n",
    "\n",
    "csc_prediction_true_values = ['Yes', 'Pass']\n",
    "csc_prediction_false_values = ['No', 'Fail']\n",
    "csc_prediction_data_types = {\n",
    "    'Application Year': 'category',\n",
    "    'Quintile': 'category',\n",
    "    'EngBin': 'category',\n",
    "    'AveSciBin': 'category',\n",
    "    'ALQLBin': 'category',\n",
    "    'Province': 'category',\n",
    "}\n",
    "csc_prediction_na_values = {\n",
    "    'CSCBin': '*',\n",
    "}\n",
    "\n",
    "csc_prediction_data_rows = [\n",
    "    'FinAid',\n",
    "    'Application Year',\n",
    "    'EngBin',\n",
    "    'AveSciBin',\n",
    "    'ALQLBin',\n",
    "    'Province',\n",
    "    'Quintile',\n",
    "    'AdMathAttempt',\n",
    "]\n",
    "\n",
    "csc_prediction_data = pd.read_csv(\n",
    "    filepath_or_buffer=csc_prediction_data_file,\n",
    "    dtype=csc_prediction_data_types,\n",
    "    true_values=csc_prediction_true_values,\n",
    "    false_values=csc_prediction_false_values,\n",
    "    na_values=csc_prediction_na_values,\n",
    "    keep_default_na=False,\n",
    ")\n",
    "csc_prediction_data = csc_prediction_data.astype({'CSCBin': 'bool'})\n",
    "csc_prediction_data.dtypes\n"
   ]
  },
  {
   "cell_type": "code",
   "execution_count": null,
   "outputs": [],
   "source": [
    "from collections import defaultdict\n",
    "\n",
    "from sklearn.tree import DecisionTreeClassifier\n",
    "from sklearn.model_selection import LeaveOneGroupOut\n",
    "from sklearn.metrics import accuracy_score, f1_score, matthews_corrcoef\n",
    "from sklearn.preprocessing import LabelEncoder\n",
    "\n",
    "\n",
    "label_encoded_cols = defaultdict(LabelEncoder)\n",
    "\n",
    "training_data = csc_prediction_data.apply(\n",
    "    lambda x: label_encoded_cols[x.name].fit_transform(x)\n",
    ")\n",
    "\n",
    "X = training_data[csc_prediction_data_rows]\n",
    "y = training_data['CSCBin']\n",
    "\n",
    "leave_one_out = LeaveOneGroupOut()\n"
   ],
   "metadata": {
    "collapsed": false,
    "pycharm": {
     "name": "#%%\n"
    }
   }
  },
  {
   "cell_type": "code",
   "execution_count": null,
   "outputs": [],
   "source": [
    "auto_sklearn_metrics = {\n",
    "    'accuracy': [],\n",
    "    'f1': [],\n",
    "    'mcc': [],\n",
    "}\n",
    "\n",
    "for train_index, test_index in tqdm(leave_one_out.split(X, y, X['Application Year'])):\n",
    "    X_train, X_test = X.iloc[train_index], X.iloc[test_index]\n",
    "    y_train, y_test = y.iloc[train_index], y.iloc[test_index]\n",
    "    \n",
    "    decision_tree = DecisionTreeClassifier()\n",
    "    decision_tree.fit(X_train, y_train)\n",
    "    \n",
    "    y_hat = decision_tree.predict(X_test)\n",
    "    \n",
    "    auto_sklearn_metrics['accuracy'].append(accuracy_score(y_test, y_hat))\n",
    "    auto_sklearn_metrics['f1'].append(f1_score(y_test, y_hat))\n",
    "    auto_sklearn_metrics['mcc'].append(matthews_corrcoef(y_test, y_hat))\n",
    "    \n",
    "print(auto_sklearn_metrics)\n"
   ],
   "metadata": {
    "collapsed": false,
    "pycharm": {
     "name": "#%%\n"
    }
   }
  }
 ],
 "metadata": {
  "language_info": {
   "codemirror_mode": {
    "name": "ipython",
    "version": 2
   },
   "file_extension": ".py",
   "mimetype": "text/x-python",
   "name": "python",
   "nbconvert_exporter": "python",
   "pygments_lexer": "ipython2",
   "version": "2.7.6"
  },
  "kernelspec": {
   "name": "python3",
   "language": "python",
   "display_name": "Python 3"
  },
  "pycharm": {
   "stem_cell": {
    "cell_type": "raw",
    "source": [],
    "metadata": {
     "collapsed": false
    }
   }
  }
 },
 "nbformat": 4,
 "nbformat_minor": 0
}